{
 "cells": [
  {
   "cell_type": "code",
   "execution_count": 1,
   "id": "21abc209",
   "metadata": {},
   "outputs": [],
   "source": [
    "import pandas as pd\n",
    "import numpy as np\n",
    "import matplotlib.pyplot as plt"
   ]
  },
  {
   "cell_type": "code",
   "execution_count": 2,
   "id": "b06d3690",
   "metadata": {},
   "outputs": [
    {
     "name": "stderr",
     "output_type": "stream",
     "text": [
      "/var/folders/11/cxk41wc10_xff4v0c3jx2bb80000gn/T/ipykernel_12664/3967909716.py:1: DtypeWarning: Columns (0,1,3) have mixed types. Specify dtype option on import or set low_memory=False.\n",
      "  df = pd.read_csv('New_York_reviews.csv')\n"
     ]
    },
    {
     "data": {
      "text/html": [
       "<div>\n",
       "<style scoped>\n",
       "    .dataframe tbody tr th:only-of-type {\n",
       "        vertical-align: middle;\n",
       "    }\n",
       "\n",
       "    .dataframe tbody tr th {\n",
       "        vertical-align: top;\n",
       "    }\n",
       "\n",
       "    .dataframe thead th {\n",
       "        text-align: right;\n",
       "    }\n",
       "</style>\n",
       "<table border=\"1\" class=\"dataframe\">\n",
       "  <thead>\n",
       "    <tr style=\"text-align: right;\">\n",
       "      <th></th>\n",
       "      <th>Unnamed: 0</th>\n",
       "      <th>parse_count</th>\n",
       "      <th>restaurant_name</th>\n",
       "      <th>rating_review</th>\n",
       "      <th>sample</th>\n",
       "      <th>review_id</th>\n",
       "      <th>title_review</th>\n",
       "      <th>review_preview</th>\n",
       "      <th>review_full</th>\n",
       "      <th>date</th>\n",
       "      <th>city</th>\n",
       "      <th>url_restaurant</th>\n",
       "      <th>author_id</th>\n",
       "    </tr>\n",
       "  </thead>\n",
       "  <tbody>\n",
       "    <tr>\n",
       "      <th>0</th>\n",
       "      <td>1</td>\n",
       "      <td>2</td>\n",
       "      <td>Lido</td>\n",
       "      <td>5</td>\n",
       "      <td>Positive</td>\n",
       "      <td>review_773559838</td>\n",
       "      <td>A Regular Treat</td>\n",
       "      <td>My wife and I have been eating dinner frequent...</td>\n",
       "      <td>My wife and I have been eating dinner frequent...</td>\n",
       "      <td>October 8, 2020</td>\n",
       "      <td>New_York_City_New_York</td>\n",
       "      <td>https://www.tripadvisor.com/Restaurant_Review-...</td>\n",
       "      <td>UID_0</td>\n",
       "    </tr>\n",
       "    <tr>\n",
       "      <th>1</th>\n",
       "      <td>2</td>\n",
       "      <td>3</td>\n",
       "      <td>Lido</td>\n",
       "      <td>4</td>\n",
       "      <td>Positive</td>\n",
       "      <td>review_769429529</td>\n",
       "      <td>Good neighborhood spot!</td>\n",
       "      <td>Came with family for Labor Day weekend brunch ...</td>\n",
       "      <td>Came with family for Labor Day weekend brunch ...</td>\n",
       "      <td>September 8, 2020</td>\n",
       "      <td>New_York_City_New_York</td>\n",
       "      <td>https://www.tripadvisor.com/Restaurant_Review-...</td>\n",
       "      <td>UID_1</td>\n",
       "    </tr>\n",
       "    <tr>\n",
       "      <th>2</th>\n",
       "      <td>3</td>\n",
       "      <td>4</td>\n",
       "      <td>Lido</td>\n",
       "      <td>1</td>\n",
       "      <td>Negative</td>\n",
       "      <td>review_745700258</td>\n",
       "      <td>Disappointing</td>\n",
       "      <td>Food was mediocre at best.  The lamb chops are...</td>\n",
       "      <td>Food was mediocre at best. The lamb chops are ...</td>\n",
       "      <td>February 17, 2020</td>\n",
       "      <td>New_York_City_New_York</td>\n",
       "      <td>https://www.tripadvisor.com/Restaurant_Review-...</td>\n",
       "      <td>UID_2</td>\n",
       "    </tr>\n",
       "    <tr>\n",
       "      <th>3</th>\n",
       "      <td>4</td>\n",
       "      <td>5</td>\n",
       "      <td>Lido</td>\n",
       "      <td>5</td>\n",
       "      <td>Positive</td>\n",
       "      <td>review_728859349</td>\n",
       "      <td>What a find in Harlem</td>\n",
       "      <td>My co-workers were volunteering at a foodbank ...</td>\n",
       "      <td>My co-workers were volunteering at a foodbank ...</td>\n",
       "      <td>November 25, 2019</td>\n",
       "      <td>New_York_City_New_York</td>\n",
       "      <td>https://www.tripadvisor.com/Restaurant_Review-...</td>\n",
       "      <td>UID_3</td>\n",
       "    </tr>\n",
       "    <tr>\n",
       "      <th>4</th>\n",
       "      <td>5</td>\n",
       "      <td>6</td>\n",
       "      <td>Lido</td>\n",
       "      <td>5</td>\n",
       "      <td>Positive</td>\n",
       "      <td>review_728429643</td>\n",
       "      <td>Lunch</td>\n",
       "      <td>Lido is an intimate boutique style restaurant....</td>\n",
       "      <td>Lido is an intimate boutique style restaurant....</td>\n",
       "      <td>November 23, 2019</td>\n",
       "      <td>New_York_City_New_York</td>\n",
       "      <td>https://www.tripadvisor.com/Restaurant_Review-...</td>\n",
       "      <td>UID_4</td>\n",
       "    </tr>\n",
       "  </tbody>\n",
       "</table>\n",
       "</div>"
      ],
      "text/plain": [
       "  Unnamed: 0 parse_count restaurant_name rating_review    sample  \\\n",
       "0          1           2            Lido             5  Positive   \n",
       "1          2           3            Lido             4  Positive   \n",
       "2          3           4            Lido             1  Negative   \n",
       "3          4           5            Lido             5  Positive   \n",
       "4          5           6            Lido             5  Positive   \n",
       "\n",
       "          review_id             title_review  \\\n",
       "0  review_773559838          A Regular Treat   \n",
       "1  review_769429529  Good neighborhood spot!   \n",
       "2  review_745700258            Disappointing   \n",
       "3  review_728859349    What a find in Harlem   \n",
       "4  review_728429643                    Lunch   \n",
       "\n",
       "                                      review_preview  \\\n",
       "0  My wife and I have been eating dinner frequent...   \n",
       "1  Came with family for Labor Day weekend brunch ...   \n",
       "2  Food was mediocre at best.  The lamb chops are...   \n",
       "3  My co-workers were volunteering at a foodbank ...   \n",
       "4  Lido is an intimate boutique style restaurant....   \n",
       "\n",
       "                                         review_full               date  \\\n",
       "0  My wife and I have been eating dinner frequent...    October 8, 2020   \n",
       "1  Came with family for Labor Day weekend brunch ...  September 8, 2020   \n",
       "2  Food was mediocre at best. The lamb chops are ...  February 17, 2020   \n",
       "3  My co-workers were volunteering at a foodbank ...  November 25, 2019   \n",
       "4  Lido is an intimate boutique style restaurant....  November 23, 2019   \n",
       "\n",
       "                     city                                     url_restaurant  \\\n",
       "0  New_York_City_New_York  https://www.tripadvisor.com/Restaurant_Review-...   \n",
       "1  New_York_City_New_York  https://www.tripadvisor.com/Restaurant_Review-...   \n",
       "2  New_York_City_New_York  https://www.tripadvisor.com/Restaurant_Review-...   \n",
       "3  New_York_City_New_York  https://www.tripadvisor.com/Restaurant_Review-...   \n",
       "4  New_York_City_New_York  https://www.tripadvisor.com/Restaurant_Review-...   \n",
       "\n",
       "  author_id  \n",
       "0     UID_0  \n",
       "1     UID_1  \n",
       "2     UID_2  \n",
       "3     UID_3  \n",
       "4     UID_4  "
      ]
     },
     "execution_count": 2,
     "metadata": {},
     "output_type": "execute_result"
    }
   ],
   "source": [
    "df = pd.read_csv('New_York_reviews.csv')\n",
    "df.head()"
   ]
  },
  {
   "cell_type": "code",
   "execution_count": 3,
   "id": "18e02b78",
   "metadata": {},
   "outputs": [
    {
     "name": "stdout",
     "output_type": "stream",
     "text": [
      "<class 'pandas.core.frame.DataFrame'>\n",
      "RangeIndex: 510463 entries, 0 to 510462\n",
      "Data columns (total 13 columns):\n",
      " #   Column           Non-Null Count   Dtype \n",
      "---  ------           --------------   ----- \n",
      " 0   Unnamed: 0       510463 non-null  object\n",
      " 1   parse_count      510463 non-null  object\n",
      " 2   restaurant_name  510463 non-null  object\n",
      " 3   rating_review    510463 non-null  object\n",
      " 4   sample           510463 non-null  object\n",
      " 5   review_id        510463 non-null  object\n",
      " 6   title_review     510462 non-null  object\n",
      " 7   review_preview   510462 non-null  object\n",
      " 8   review_full      510461 non-null  object\n",
      " 9   date             510461 non-null  object\n",
      " 10  city             510461 non-null  object\n",
      " 11  url_restaurant   510461 non-null  object\n",
      " 12  author_id        510461 non-null  object\n",
      "dtypes: object(13)\n",
      "memory usage: 50.6+ MB\n"
     ]
    }
   ],
   "source": [
    "df.info()"
   ]
  },
  {
   "cell_type": "code",
   "execution_count": 4,
   "id": "ac5c9cf4",
   "metadata": {
    "scrolled": true
   },
   "outputs": [
    {
     "data": {
      "text/plain": [
       "5                         227762\n",
       "4                         138785\n",
       "3                          46988\n",
       "5                          31210\n",
       "4                          22006\n",
       "2                          17553\n",
       "1                          13839\n",
       "3                           7356\n",
       "2                           2759\n",
       "1                           2204\n",
       "New_York_City_New_York         1\n",
       "Name: rating_review, dtype: int64"
      ]
     },
     "execution_count": 4,
     "metadata": {},
     "output_type": "execute_result"
    }
   ],
   "source": [
    "df['rating_review'].value_counts()"
   ]
  },
  {
   "cell_type": "code",
   "execution_count": 5,
   "id": "db832a5d",
   "metadata": {},
   "outputs": [
    {
     "data": {
      "text/html": [
       "<div>\n",
       "<style scoped>\n",
       "    .dataframe tbody tr th:only-of-type {\n",
       "        vertical-align: middle;\n",
       "    }\n",
       "\n",
       "    .dataframe tbody tr th {\n",
       "        vertical-align: top;\n",
       "    }\n",
       "\n",
       "    .dataframe thead th {\n",
       "        text-align: right;\n",
       "    }\n",
       "</style>\n",
       "<table border=\"1\" class=\"dataframe\">\n",
       "  <thead>\n",
       "    <tr style=\"text-align: right;\">\n",
       "      <th></th>\n",
       "      <th>rating_review</th>\n",
       "      <th>review_full</th>\n",
       "    </tr>\n",
       "  </thead>\n",
       "  <tbody>\n",
       "    <tr>\n",
       "      <th>0</th>\n",
       "      <td>5</td>\n",
       "      <td>My wife and I have been eating dinner frequent...</td>\n",
       "    </tr>\n",
       "    <tr>\n",
       "      <th>1</th>\n",
       "      <td>4</td>\n",
       "      <td>Came with family for Labor Day weekend brunch ...</td>\n",
       "    </tr>\n",
       "    <tr>\n",
       "      <th>2</th>\n",
       "      <td>1</td>\n",
       "      <td>Food was mediocre at best. The lamb chops are ...</td>\n",
       "    </tr>\n",
       "    <tr>\n",
       "      <th>3</th>\n",
       "      <td>5</td>\n",
       "      <td>My co-workers were volunteering at a foodbank ...</td>\n",
       "    </tr>\n",
       "    <tr>\n",
       "      <th>4</th>\n",
       "      <td>5</td>\n",
       "      <td>Lido is an intimate boutique style restaurant....</td>\n",
       "    </tr>\n",
       "  </tbody>\n",
       "</table>\n",
       "</div>"
      ],
      "text/plain": [
       "  rating_review                                        review_full\n",
       "0             5  My wife and I have been eating dinner frequent...\n",
       "1             4  Came with family for Labor Day weekend brunch ...\n",
       "2             1  Food was mediocre at best. The lamb chops are ...\n",
       "3             5  My co-workers were volunteering at a foodbank ...\n",
       "4             5  Lido is an intimate boutique style restaurant...."
      ]
     },
     "execution_count": 5,
     "metadata": {},
     "output_type": "execute_result"
    }
   ],
   "source": [
    "df = df[['rating_review', 'review_full']]\n",
    "df.head()"
   ]
  },
  {
   "cell_type": "code",
   "execution_count": 8,
   "id": "b0dec2f6",
   "metadata": {},
   "outputs": [],
   "source": [
    "# droping a row that df['rating_review']='New_York_City_New_York'\n",
    "df = df.drop(df['rating_review'].loc[df['rating_review']=='New_York_City_New_York'].index)"
   ]
  },
  {
   "cell_type": "code",
   "execution_count": 10,
   "id": "c3843539",
   "metadata": {},
   "outputs": [
    {
     "data": {
      "text/plain": [
       "5    227762\n",
       "4    138785\n",
       "3     46988\n",
       "5     31210\n",
       "4     22006\n",
       "2     17553\n",
       "1     13839\n",
       "3      7356\n",
       "2      2759\n",
       "1      2204\n",
       "Name: rating_review, dtype: int64"
      ]
     },
     "execution_count": 10,
     "metadata": {},
     "output_type": "execute_result"
    }
   ],
   "source": [
    "df['rating_review'].value_counts()"
   ]
  },
  {
   "cell_type": "code",
   "execution_count": null,
   "id": "c63b8d54",
   "metadata": {},
   "outputs": [],
   "source": []
  }
 ],
 "metadata": {
  "kernelspec": {
   "display_name": "Python 3 (ipykernel)",
   "language": "python",
   "name": "python3"
  },
  "language_info": {
   "codemirror_mode": {
    "name": "ipython",
    "version": 3
   },
   "file_extension": ".py",
   "mimetype": "text/x-python",
   "name": "python",
   "nbconvert_exporter": "python",
   "pygments_lexer": "ipython3",
   "version": "3.9.12"
  }
 },
 "nbformat": 4,
 "nbformat_minor": 5
}
